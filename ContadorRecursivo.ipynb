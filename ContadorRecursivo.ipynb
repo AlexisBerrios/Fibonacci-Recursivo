{
  "nbformat": 4,
  "nbformat_minor": 0,
  "metadata": {
    "colab": {
      "name": "ContadorRecursivo.ipynb",
      "provenance": []
    },
    "kernelspec": {
      "name": "python3",
      "display_name": "Python 3"
    },
    "language_info": {
      "name": "python"
    }
  },
  "cells": [
    {
      "cell_type": "code",
      "metadata": {
        "colab": {
          "base_uri": "https://localhost:8080/"
        },
        "id": "RNXdCOgN4m_4",
        "outputId": "e2109a78-217a-4893-d03c-f964e8ec2e7a"
      },
      "source": [
        "print('Contador con recursión ');"
      ],
      "execution_count": null,
      "outputs": [
        {
          "output_type": "stream",
          "name": "stdout",
          "text": [
            "Contador con recursión \n"
          ]
        }
      ]
    },
    {
      "cell_type": "code",
      "metadata": {
        "colab": {
          "base_uri": "https://localhost:8080/"
        },
        "id": "cGS9AlHr45yS",
        "outputId": "882d79a5-4d6e-4013-82c3-922bf9d7107b"
      },
      "source": [
        "def conteoRecursivo(numero):\n",
        "    if (numero) == 0:\n",
        "      return 0\n",
        "    else:\n",
        "      print(numero)\n",
        "      return conteoRecursivo((numero) - 1)\n",
        "conteoIni = 10\n",
        "print(conteoRecursivo(valor))  \n",
        "print('BOOMMMMM !!!')"
      ],
      "execution_count": null,
      "outputs": [
        {
          "output_type": "stream",
          "name": "stdout",
          "text": [
            "10\n",
            "9\n",
            "8\n",
            "7\n",
            "6\n",
            "5\n",
            "4\n",
            "3\n",
            "2\n",
            "1\n",
            "0\n",
            "BOOMMMMM !!!\n"
          ]
        }
      ]
    }
  ]
}