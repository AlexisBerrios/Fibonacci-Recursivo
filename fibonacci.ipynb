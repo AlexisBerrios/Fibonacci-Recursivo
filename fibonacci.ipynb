{
  "nbformat": 4,
  "nbformat_minor": 0,
  "metadata": {
    "colab": {
      "name": "fibonacci.ipynb",
      "provenance": []
    },
    "kernelspec": {
      "name": "python3",
      "display_name": "Python 3"
    },
    "language_info": {
      "name": "python"
    }
  },
  "cells": [
    {
      "cell_type": "markdown",
      "metadata": {
        "id": "-C8-uid7pShU"
      },
      "source": [
        ""
      ]
    },
    {
      "cell_type": "code",
      "metadata": {
        "colab": {
          "base_uri": "https://localhost:8080/"
        },
        "id": "XP2-hqPyq-8M",
        "outputId": "4367f8ad-6279-4cf8-ec20-92be7f292058"
      },
      "source": [
        "print('SERIE FIBONACCI')"
      ],
      "execution_count": null,
      "outputs": [
        {
          "output_type": "stream",
          "name": "stdout",
          "text": [
            "SERIE FIBONACCI CON RECURSIVIDAD\n"
          ]
        }
      ]
    },
    {
      "cell_type": "code",
      "metadata": {
        "id": "UAfRdnyxIIpj"
      },
      "source": [
        "def printfibo(a,b):\n",
        "    if a<34:\n",
        "      print(a,b)\n",
        "      a=a+b\n",
        "      b=a+b\n",
        "      printfibo(a,b)\n",
        "      "
      ],
      "execution_count": null,
      "outputs": []
    },
    {
      "cell_type": "code",
      "metadata": {
        "colab": {
          "base_uri": "https://localhost:8080/"
        },
        "id": "RSMHtJbK-1cm",
        "outputId": "36c72b09-b32e-4b5e-9105-95999fa39de3"
      },
      "source": [
        "printfibo(0,1)"
      ],
      "execution_count": null,
      "outputs": [
        {
          "output_type": "stream",
          "name": "stdout",
          "text": [
            "0 1\n",
            "1 2\n",
            "3 5\n",
            "8 13\n",
            "21 34\n"
          ]
        }
      ]
    },
    {
      "cell_type": "code",
      "metadata": {
        "id": "stBZDiIyRRSt"
      },
      "source": [
        "print('SERIE FIBONACCI CON RECURSIVIDAD')"
      ],
      "execution_count": null,
      "outputs": []
    },
    {
      "cell_type": "code",
      "metadata": {
        "id": "X0s7D2eAoNqg"
      },
      "source": [
        "def fibonacci(n):\n",
        "  print (\"fibonacci: \"+str(n))\n",
        "  if n<=2:\n",
        "    return n\n",
        "  else:\n",
        "    return(fibonacci(n-1) + fibonacci(n-2))"
      ],
      "execution_count": null,
      "outputs": []
    },
    {
      "cell_type": "code",
      "metadata": {
        "colab": {
          "base_uri": "https://localhost:8080/"
        },
        "id": "2ywu97N8ojQI",
        "outputId": "fd84595d-6f40-46a8-e698-ca74fee062a8"
      },
      "source": [
        "n=8\n",
        "print(fibonacci(n))"
      ],
      "execution_count": null,
      "outputs": [
        {
          "output_type": "stream",
          "name": "stdout",
          "text": [
            "fibonacci: 8\n",
            "fibonacci: 7\n",
            "fibonacci: 6\n",
            "fibonacci: 5\n",
            "fibonacci: 4\n",
            "fibonacci: 3\n",
            "fibonacci: 2\n",
            "fibonacci: 1\n",
            "fibonacci: 2\n",
            "fibonacci: 3\n",
            "fibonacci: 2\n",
            "fibonacci: 1\n",
            "fibonacci: 4\n",
            "fibonacci: 3\n",
            "fibonacci: 2\n",
            "fibonacci: 1\n",
            "fibonacci: 2\n",
            "fibonacci: 5\n",
            "fibonacci: 4\n",
            "fibonacci: 3\n",
            "fibonacci: 2\n",
            "fibonacci: 1\n",
            "fibonacci: 2\n",
            "fibonacci: 3\n",
            "fibonacci: 2\n",
            "fibonacci: 1\n",
            "fibonacci: 6\n",
            "fibonacci: 5\n",
            "fibonacci: 4\n",
            "fibonacci: 3\n",
            "fibonacci: 2\n",
            "fibonacci: 1\n",
            "fibonacci: 2\n",
            "fibonacci: 3\n",
            "fibonacci: 2\n",
            "fibonacci: 1\n",
            "fibonacci: 4\n",
            "fibonacci: 3\n",
            "fibonacci: 2\n",
            "fibonacci: 1\n",
            "fibonacci: 2\n",
            "34\n"
          ]
        }
      ]
    }
  ]
}