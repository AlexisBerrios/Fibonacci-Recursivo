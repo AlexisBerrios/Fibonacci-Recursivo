{
  "nbformat": 4,
  "nbformat_minor": 0,
  "metadata": {
    "colab": {
      "name": "EliminarNumero.ipynb",
      "provenance": []
    },
    "kernelspec": {
      "name": "python3",
      "display_name": "Python 3"
    },
    "language_info": {
      "name": "python"
    }
  },
  "cells": [
    {
      "cell_type": "code",
      "metadata": {
        "colab": {
          "base_uri": "https://localhost:8080/"
        },
        "id": "gZb9JVQsLhAP",
        "outputId": "5e6fe109-6565-4192-fba7-701c2d51eaaa"
      },
      "source": [
        "print('Eliminar el elemento en posición media')"
      ],
      "execution_count": null,
      "outputs": [
        {
          "output_type": "stream",
          "name": "stdout",
          "text": [
            "Eliminar el elemento en posición media\n"
          ]
        }
      ]
    },
    {
      "cell_type": "code",
      "metadata": {
        "id": "SEHN89brLl3m",
        "colab": {
          "base_uri": "https://localhost:8080/"
        },
        "outputId": "75ea649c-47b1-4977-e85c-c4eaffc9ea49"
      },
      "source": [
        "dimension = int (input (\"Defina el tamaño de la lista: \"))\n",
        "lista = []\n",
        "x=0\n",
        "while x<dimension:\n",
        "    print('rellene el arreglo en posición: ', x)\n",
        "    numeros = int(input())\n",
        "    lista.append(numeros)\n",
        "    x+=1\n",
        "for y in lista:\n",
        "    print('los numeros son: ', y)\n",
        "\n"
      ],
      "execution_count": null,
      "outputs": [
        {
          "output_type": "stream",
          "name": "stdout",
          "text": [
            "Defina el tamaño de la lista: 5\n",
            "rellene el arreglo en posición:  0\n",
            "1\n",
            "rellene el arreglo en posición:  1\n",
            "2\n",
            "rellene el arreglo en posición:  2\n",
            "3\n",
            "rellene el arreglo en posición:  3\n",
            "4\n",
            "rellene el arreglo en posición:  4\n",
            "5\n",
            "los numeros son:  1\n",
            "los numeros son:  2\n",
            "los numeros son:  3\n",
            "los numeros son:  4\n",
            "los numeros son:  5\n"
          ]
        }
      ]
    },
    {
      "cell_type": "code",
      "metadata": {
        "colab": {
          "base_uri": "https://localhost:8080/"
        },
        "id": "WVjZXubJJwij",
        "outputId": "a4d30f8b-8774-409f-c979-9ceee0bfd446"
      },
      "source": [
        "residuo = dimension % 2 #obtenemos el residuo de dimension / 2\n",
        "op = dimension / 2 #obtenemos el resultado de dimension /2\n",
        "if residuo >=1: #número impar\n",
        "    op=op-0.5 #restaremos 0.5 para que nos de el num intermedio\n",
        "    print('el numero eliminado es: ', lista[int(op)]) #transformar float a int\n",
        "if residuo ==0: #numero par\n",
        "    op=op-1     #número impar\n",
        "    print('el numero eliminado es:  ', lista[int(op)]) #transformar float a int"
      ],
      "execution_count": null,
      "outputs": [
        {
          "output_type": "stream",
          "name": "stdout",
          "text": [
            "el numero eliminado es:  3\n"
          ]
        }
      ]
    },
    {
      "cell_type": "code",
      "metadata": {
        "colab": {
          "base_uri": "https://localhost:8080/"
        },
        "id": "0yJE7FXyPo8D",
        "outputId": "642e863b-faba-467f-ceb3-5941cf355f88"
      },
      "source": [
        "lista.pop(int(op))\n",
        "for x in lista: #recorremos la lista sin el elemento eliminado \n",
        "    print('la lista ahora es: ', x)"
      ],
      "execution_count": null,
      "outputs": [
        {
          "output_type": "stream",
          "name": "stdout",
          "text": [
            "la lista ahora es:  1\n",
            "la lista ahora es:  2\n",
            "la lista ahora es:  4\n",
            "la lista ahora es:  5\n"
          ]
        }
      ]
    }
  ]
}