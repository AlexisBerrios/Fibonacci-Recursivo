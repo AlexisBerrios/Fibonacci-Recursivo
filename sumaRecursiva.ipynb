{
  "nbformat": 4,
  "nbformat_minor": 0,
  "metadata": {
    "colab": {
      "name": "sumaRecursiva.ipynb",
      "provenance": []
    },
    "kernelspec": {
      "display_name": "Python 3",
      "name": "python3"
    },
    "language_info": {
      "name": "python"
    }
  },
  "cells": [
    {
      "cell_type": "code",
      "metadata": {
        "colab": {
          "base_uri": "https://localhost:8080/"
        },
        "id": "wdJh_8OF3Qlw",
        "outputId": "e0f8b026-885d-420a-c7bf-361c47b6306e"
      },
      "source": [
        "print('Suma con recursividad')"
      ],
      "execution_count": null,
      "outputs": [
        {
          "output_type": "stream",
          "name": "stdout",
          "text": [
            "Suma con recursividad\n"
          ]
        }
      ]
    },
    {
      "cell_type": "code",
      "metadata": {
        "colab": {
          "base_uri": "https://localhost:8080/"
        },
        "id": "xnfeTvcGyvDt",
        "outputId": "e1aa3110-1f46-4895-9fa9-8b47070d1b10"
      },
      "source": [
        "def sumaRecursiva(numeros): \n",
        "    if len(numeros) == 0: #preguntamos si la lista tiene cero numeros == 0\n",
        "      return 0            #en dado caso regresamos 0\n",
        "    else:                 #de lo contrario tomamos a numeros en [0] y le sumamos desde numeros[1]\n",
        "      return numeros[0] + sumaRecursiva(numeros[1:len(numeros)]) #le indicamos que llegue al final (cuando la lista este vacia)\n",
        "  \n",
        "valores = [1, 2, 3, 4, 5]\n",
        "resultado = sumaRecursiva(valores)\n",
        "\n",
        "print('La suma recursiva es: ', resultado)"
      ],
      "execution_count": null,
      "outputs": [
        {
          "output_type": "stream",
          "name": "stdout",
          "text": [
            "La suma recursiva es:  15\n"
          ]
        }
      ]
    },
    {
      "cell_type": "code",
      "metadata": {
        "id": "D8eHX5cv1udW"
      },
      "source": [
        ""
      ],
      "execution_count": null,
      "outputs": []
    }
  ]
}